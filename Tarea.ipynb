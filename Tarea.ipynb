{
 "cells": [
  {
   "cell_type": "markdown",
   "metadata": {},
   "source": []
  },
  {
   "cell_type": "markdown",
   "metadata": {},
   "source": [
    "## T5_Mapa de Ciencia\n",
    "###### Basado en las sesiones de Visualización de datos y Expresiones resulares. Realice una adaptación de la solución del MAP OF SCIENCE. Se requiere dos adaptaciones para resolver esta actividad:\n",
    "\n",
    "-  Buscar bibliografía de un tema de interés propio en la Página Web de PubMed.\n",
    "-  Realizar el minado de autores por país (en el ejemplo se encuentra realziado por las ciudades de USA). Para asignar las ubicación geográfica de los centroides de cada país (latitud y longitud), utilice la tabla  Ubicación Geográfica de Países - Google Developer. Así como en la solución de referencia se señalan varias ciudades seleccionadas de USA, en su resolución señale/resalte a los siguientes países: USA, UK, Brazil, China, Australia, Norway.  \n"
   ]
  },
  {
   "cell_type": "code",
   "execution_count": 6,
   "metadata": {},
   "outputs": [],
   "source": [
    "import re\n",
    "import csv\n",
    "import itertools"
   ]
  },
  {
   "cell_type": "code",
   "execution_count": 3,
   "metadata": {},
   "outputs": [],
   "source": [
    "f = open('pubmed-transcript-set.txt',errors = 'ignore')\n",
    "My_text = f.read()"
   ]
  },
  {
   "cell_type": "code",
   "execution_count": 4,
   "metadata": {},
   "outputs": [
    {
     "data": {
      "text/plain": [
       "49455221"
      ]
     },
     "execution_count": 4,
     "metadata": {},
     "output_type": "execute_result"
    }
   ],
   "source": [
    "len(My_text)"
   ]
  },
  {
   "cell_type": "code",
   "execution_count": 7,
   "metadata": {},
   "outputs": [],
   "source": [
    "My_tex = re.sub(r\"\\n\\s{6}\", \" \" , My_text)"
   ]
  },
  {
   "cell_type": "code",
   "execution_count": 11,
   "metadata": {},
   "outputs": [],
   "source": [
    "My_tex = re.findall(r\"\\,\\s[A-Z]+[A-z]{2,11}\\.\", My_text)\n",
    "unique_cods = list(set(My_tex))\n",
    "unique_cods.sort()\n"
   ]
  },
  {
   "cell_type": "code",
   "execution_count": 12,
   "metadata": {},
   "outputs": [
    {
     "name": "stdout",
     "output_type": "stream",
     "text": [
      "[', AAVrh.', ', Aar.', ', Abt.', ', Acc.', ', AfoA.', ', AggR.', ', Algeria.', ', Andorra.', ', Apdo.', ', Argentina.', ', Arkansas.', ', Arkel.', ', AscR.', ', Australia.', ', Austria.', ', Avd.', ', Avda.', ', Ave.', ', Baltimore.', ', Bangladesh.', ', Barbados.', ', Basel.', ', Belarus.', ', Belgique.', ', Belgium.', ', Benin.', ', Berkeleygrid.', ', Bethesda.', ', Bld.', ', Bldg.', ', Bloomington.', ', Blvd.', ', Botswana.', ', Brasil.', ', Brazil.', ', Bulgaria.', ', Butenandtstr.', ', CHS.', ', CIITA.', ', Calif.', ', California.', ', Cambodia.', ', Cameroon.', ', Canada.', ', Caribbean.', ', Celsiusstr.', ', CepIR.', ', Chile.', ', China.', ', CidR.', ', Clayton.', ', Col.', ', Colombia.', ', ComW.', ', Congo.', ', Corrensstr.', ', Correnstr.', ', Croatia.', ', Ctra.', ', Cuba.', ', Cyprus.', ', Czechia.', ', Davis.', ', Del.', ', Deleg.', ', Denmark.', ', Dept.', ', Depto.', ', Dist.', ', Div.', ', Ecuador.', ', Edo.', ', Egypt.', ', England.', ', Estonia.', ', Ethiopia.', ', FACT.', ', FOS.', ', FapR.', ', Fay.', ', Fetscherstr.', ', Finland.', ', Fla.', ', Florida.', ', France.', ', FvAtfA.', ', GII.', ', Gag.', ', Garbenstr.', ', GcsA.', ', Gen.', ', Georgia.', ', Germany.', ', Ghana.', ', Gorai.', ', Govt.', ', Greece.', ', Grenada.', ', Grisebachstr.', ', Gto.', ', Guangzhou.', ', Guinea.', ', Haiti.', ', Hauptstr.', ', Heinrichstr.', ', Hokkaido.', ', Hungary.', ', INC.', ', Iceland.', ', Illinois.', ', Inc.', ', Ind.', ', India.', ', Indonesia.', ', Inhoffenstr.', ', Iowa.', ', Iran.', ', Iraq.', ', Ireland.', ', Iridoviridae.', ', Israel.', ', Italy.', ', Jan.', ', Janssen.', ', Japan.', ', Jln.', ', Jordan.', ', Karnataka.', ', Katherine.', ', Kazakhstan.', ', Kentucky.', ', Kenya.', ', Kgs.', ', Korea.', ', LLC.', ', Latvia.', ', Lebanon.', ', Legon.', ', LexA.', ', Libya.', ', Lithuania.', ', Louisiana.', ', Ltd.', ', Luxembourg.', ', MSTRG.', ', Macau.', ', Malaysia.', ', Marienstr.', ', Maryland.', ', Mass.', ', Mauritius.', ', Max.', ', Meghalaya.', ', Mercedgrid.', ', Mexico.', ', Meyerhofstr.', ', Mich.', ', Michigan.', ', Minnesota.', ', Missouri.', ', Mlc.', ', Montenegro.', ', Morocco.', ', MucA.', ', Myanmar.', ', NIAID.', ', Nebraska.', ', Nepal.', ', Netherlands.', ', Nevada.', ', Nicaragua.', ', Nigeria.', ', Norway.', ', NtrC.', ', NusA.', ', Ohio.', ', Oman.', ', Ont.', ', Oregon.', ', OxyR.', ', PRC.', ', Pakistan.', ', Palaiseau.', ', Palestine.', ', Panama.', ', Paris.', ', Parkville.', ', Patr.', ', Pennsylvania.', ', Peru.', ', Philippines.', ', PlrSR.', ', PmRelish.', ', PmrD.', ', Poland.', ', Portland.', ', Portugal.', ', Potri.', ', Prof.', ', QCp.', ', Qatar.', ', Qom.', ', ROC.', ', Reno.', ', Respectively.', ', RfaH.', ', Robert.', ', Rod.', ', Romania.', ', RsbN.', ', RtcB.', ', Russia.', ', SERT.', ', Scotland.', ', Sec.', ', Serbia.', ', SigA.', ', Singapore.', ', Slovakia.', ', Slovenia.', ', Spain.', ', Spielmannstr.', ', Ste.', ', Sudan.', ', Sweden.', ', Switzerland.', ', Syria.', ', TGA.', ', Taipei.', ', Taiwan.', ', Tal.', ', Tanzania.', ', Tehran.', ', Tennessee.', ', Tex.', ', Texas.', ', Thailan.', ', Thailand.', ', TransposeNet.', ', Trogerstr.', ', Tunis.', ', Tunisia.', ', Turkey.', ', UAE.', ', UNT.', ', USA.', ', Uganda.', ', Ukraine.', ', Univ.', ', Uruguay.', ', VIC.', ', Venezuela.', ', Ver.', ', Vic.', ', Victoria.', ', Vietnam.', ', VipA.', ', Virginia.', ', Wash.', ', Washington.', ', Weinheim.', ', Westf.', ', Wisconsin.', ', Worcester.', ', Zambia.']\n"
     ]
    }
   ],
   "source": [
    "F = unique_cods\n",
    "print(F)"
   ]
  },
  {
   "cell_type": "code",
   "execution_count": 21,
   "metadata": {},
   "outputs": [
    {
     "ename": "ValueError",
     "evalue": "list.remove(x): x not in list",
     "output_type": "error",
     "traceback": [
      "\u001b[1;31m---------------------------------------------------------------------------\u001b[0m",
      "\u001b[1;31mValueError\u001b[0m                                Traceback (most recent call last)",
      "\u001b[1;32m~\\AppData\\Local\\Temp/ipykernel_6140/1083248791.py\u001b[0m in \u001b[0;36m<module>\u001b[1;34m\u001b[0m\n\u001b[0;32m      1\u001b[0m \u001b[0ma\u001b[0m \u001b[1;33m=\u001b[0m \u001b[0munique_cods\u001b[0m\u001b[1;33m\u001b[0m\u001b[1;33m\u001b[0m\u001b[0m\n\u001b[1;32m----> 2\u001b[1;33m \u001b[0ma\u001b[0m\u001b[1;33m.\u001b[0m\u001b[0mremove\u001b[0m\u001b[1;33m(\u001b[0m\u001b[1;34m', AAVrh.'\u001b[0m\u001b[1;33m)\u001b[0m\u001b[1;33m\u001b[0m\u001b[1;33m\u001b[0m\u001b[0m\n\u001b[0m\u001b[0;32m      3\u001b[0m \u001b[0ma\u001b[0m\u001b[1;33m.\u001b[0m\u001b[0mremove\u001b[0m\u001b[1;33m(\u001b[0m\u001b[1;34m', Aar.'\u001b[0m\u001b[1;33m)\u001b[0m\u001b[1;33m\u001b[0m\u001b[1;33m\u001b[0m\u001b[0m\n\u001b[0;32m      4\u001b[0m \u001b[0ma\u001b[0m\u001b[1;33m.\u001b[0m\u001b[0mremove\u001b[0m\u001b[1;33m(\u001b[0m \u001b[1;34m', Abt.'\u001b[0m\u001b[1;33m)\u001b[0m\u001b[1;33m\u001b[0m\u001b[1;33m\u001b[0m\u001b[0m\n\u001b[0;32m      5\u001b[0m \u001b[0ma\u001b[0m\u001b[1;33m.\u001b[0m\u001b[0mremove\u001b[0m\u001b[1;33m(\u001b[0m\u001b[1;34m', Acc.'\u001b[0m\u001b[1;33m)\u001b[0m\u001b[1;33m\u001b[0m\u001b[1;33m\u001b[0m\u001b[0m\n",
      "\u001b[1;31mValueError\u001b[0m: list.remove(x): x not in list"
     ]
    }
   ],
   "source": [
    "a = unique_cods\n",
    "a.remove(', AAVrh.')\n",
    "a.remove(', Aar.')\n",
    "a.remove( ', Abt.')\n",
    "a.remove(', Acc.')\n",
    "a.remove(', AfoA.')\n",
    "a.remove(', AggR.')\n",
    "a.remove( ', Apdo.')\n",
    "a.remove(', Sec.')\n",
    "a.remove(', AscR.')\n",
    "a.remove(', Avd.')\n",
    "a.remove(', Avda.')\n",
    "a.remove(', Ave.')\n",
    "a.remove(', Benin.')\n",
    "a.remove(', Bld.')\n",
    "a.remove(', Bldg.')\n",
    "a.remove(', Blvd.')\n",
    "a.remove(', Butenandtstr.')\n",
    "a.remove(', CHS.')\n",
    "a.remove(', CIITA.')\n",
    "a.remove(', Calif.')\n",
    "a.remove(', Caribbean.')\n",
    "a.remove(', Celsiusstr.')\n",
    "a.remove(', CepIR.')\n",
    "a.remove(', CidR.')\n",
    "a.remove(', Clayton.')\n",
    "a.remove(', Col.')\n",
    "a.remove(', ComW.')\n",
    "a.remove(', Corrensstr.')\n",
    "a.remove(', Correnstr.')\n",
    "a.remove(', Ctra.')\n",
    "a.remove(', Cyprus.')\n",
    "a.remove(', Cyprus.')\n",
    "a.remove(', Czechia.')\n",
    "a.remove(', Davis.')\n",
    "a.remove(', Del.')\n",
    "a.remove(', Deleg.')\n",
    "a.remove(', Denmark.')\n",
    "a.remove(', Dept.')\n",
    "a.remove(', Depto.')\n",
    "a.remove(', Dist.')\n",
    "a.remove(', Div.')\n",
    "a.remove(', Edo.')\n",
    "a.remove(', FACT.')\n",
    "a.remove(', FOS.')\n",
    "a.remove(', FapR.')\n",
    "a.remove(', Fay.')\n",
    "a.remove(', Fetscherstr.')\n",
    "a.remove(', Fla.')\n",
    "a.remove(', FvAtfA.')\n",
    "a.remove(', GII.')\n",
    "a.remove(', Gag.')\n",
    "a.remove(', GcsA.')\n",
    "a.remove(', Gen.')\n",
    "a.remove(', Govt.')\n",
    "a.remove(', Gto.')\n",
    "a.remove(', INC.')\n",
    "a.remove(', Inc.')\n",
    "a.remove(', Ind.')\n",
    "a.remove(', Kgs.')\n",
    "a.remove(', LLC.')\n",
    "a.remove(', Ltd.')\n",
    "a.remove(', MSTRG.')\n",
    "a.remove(', Mlc.')\n",
    "a.remove(', MucA.')\n",
    "a.remove(', Mass.')\n",
    "a.remove(', Max.')\n",
    "a.remove(', Mich.')\n",
    "a.remove(', NtrC.')\n",
    "a.remove(', NusA.')\n",
    "a.remove(', Patr.')\n",
    "a.remove(', PlrSR.')\n",
    "a.remove(', PmRelish.')\n",
    "a.remove(', PmrD.')\n",
    "a.remove(', Potri.')\n",
    "a.remove(', Prof.')\n",
    "a.remove(', QCp.')\n",
    "a.remove(', Qom.')\n",
    "a.remove(', Qom.')\n",
    "a.remove(',  ROC.')\n",
    "a.remove(', Respectively.')\n",
    "a.remove(', RfaH.')\n",
    "a.remove(', RtcB.')\n",
    "a.remove(', RsbN.')\n",
    "a.remove(', Ste.')\n",
    "a.remove(', TransposeNet.')\n",
    "a.remove(', Trogerstr.')\n",
    "a.remove(', UNT.')\n",
    "a.remove(', UAE.')\n",
    "a.remove(', Univ.')\n",
    "a.remove(', VIC.')\n",
    "a.remove(', Ver.')\n",
    "a.remove(', Vic.')\n",
    "a.remove(', Victoria.')\n",
    "a.remove(', VipA.')\n",
    "a.remove(', Wash.')\n"
   ]
  },
  {
   "cell_type": "code",
   "execution_count": 22,
   "metadata": {},
   "outputs": [
    {
     "name": "stdout",
     "output_type": "stream",
     "text": [
      "[', Algeria.', ', Andorra.', ', Argentina.', ', Arkansas.', ', Arkel.', ', AscR.', ', Australia.', ', Austria.', ', Avd.', ', Avda.', ', Ave.', ', Baltimore.', ', Bangladesh.', ', Barbados.', ', Basel.', ', Belarus.', ', Belgique.', ', Belgium.', ', Benin.', ', Berkeleygrid.', ', Bethesda.', ', Bld.', ', Bldg.', ', Bloomington.', ', Blvd.', ', Botswana.', ', Brasil.', ', Brazil.', ', Bulgaria.', ', Butenandtstr.', ', CHS.', ', CIITA.', ', Calif.', ', California.', ', Cambodia.', ', Cameroon.', ', Canada.', ', Caribbean.', ', Celsiusstr.', ', CepIR.', ', Chile.', ', China.', ', CidR.', ', Clayton.', ', Col.', ', Colombia.', ', ComW.', ', Congo.', ', Corrensstr.', ', Correnstr.', ', Croatia.', ', Ctra.', ', Cuba.', ', Cyprus.', ', Czechia.', ', Davis.', ', Del.', ', Deleg.', ', Denmark.', ', Dept.', ', Depto.', ', Dist.', ', Div.', ', Ecuador.', ', Edo.', ', Egypt.', ', England.', ', Estonia.', ', Ethiopia.', ', FACT.', ', FOS.', ', FapR.', ', Fay.', ', Fetscherstr.', ', Finland.', ', Fla.', ', Florida.', ', France.', ', FvAtfA.', ', GII.', ', Gag.', ', Garbenstr.', ', GcsA.', ', Gen.', ', Georgia.', ', Germany.', ', Ghana.', ', Gorai.', ', Govt.', ', Greece.', ', Grenada.', ', Grisebachstr.', ', Gto.', ', Guangzhou.', ', Guinea.', ', Haiti.', ', Hauptstr.', ', Heinrichstr.', ', Hokkaido.', ', Hungary.', ', INC.', ', Iceland.', ', Illinois.', ', Inc.', ', Ind.', ', India.', ', Indonesia.', ', Inhoffenstr.', ', Iowa.', ', Iran.', ', Iraq.', ', Ireland.', ', Iridoviridae.', ', Israel.', ', Italy.', ', Jan.', ', Janssen.', ', Japan.', ', Jln.', ', Jordan.', ', Karnataka.', ', Katherine.', ', Kazakhstan.', ', Kentucky.', ', Kenya.', ', Kgs.', ', Korea.', ', LLC.', ', Latvia.', ', Lebanon.', ', Legon.', ', LexA.', ', Libya.', ', Lithuania.', ', Louisiana.', ', Ltd.', ', Luxembourg.', ', MSTRG.', ', Macau.', ', Malaysia.', ', Marienstr.', ', Maryland.', ', Mass.', ', Mauritius.', ', Max.', ', Meghalaya.', ', Mercedgrid.', ', Mexico.', ', Meyerhofstr.', ', Mich.', ', Michigan.', ', Minnesota.', ', Missouri.', ', Mlc.', ', Montenegro.', ', Morocco.', ', MucA.', ', Myanmar.', ', NIAID.', ', Nebraska.', ', Nepal.', ', Netherlands.', ', Nevada.', ', Nicaragua.', ', Nigeria.', ', Norway.', ', NtrC.', ', NusA.', ', Ohio.', ', Oman.', ', Ont.', ', Oregon.', ', OxyR.', ', PRC.', ', Pakistan.', ', Palaiseau.', ', Palestine.', ', Panama.', ', Paris.', ', Parkville.', ', Patr.', ', Pennsylvania.', ', Peru.', ', Philippines.', ', PlrSR.', ', PmRelish.', ', PmrD.', ', Poland.', ', Portland.', ', Portugal.', ', Potri.', ', Prof.', ', QCp.', ', Qatar.', ', Qom.', ', ROC.', ', Reno.', ', Respectively.', ', RfaH.', ', Robert.', ', Rod.', ', Romania.', ', RsbN.', ', RtcB.', ', Russia.', ', SERT.', ', Scotland.', ', Serbia.', ', SigA.', ', Singapore.', ', Slovakia.', ', Slovenia.', ', Spain.', ', Spielmannstr.', ', Ste.', ', Sudan.', ', Sweden.', ', Switzerland.', ', Syria.', ', TGA.', ', Taipei.', ', Taiwan.', ', Tal.', ', Tanzania.', ', Tehran.', ', Tennessee.', ', Tex.', ', Texas.', ', Thailan.', ', Thailand.', ', TransposeNet.', ', Trogerstr.', ', Tunis.', ', Tunisia.', ', Turkey.', ', UAE.', ', UNT.', ', USA.', ', Uganda.', ', Ukraine.', ', Univ.', ', Uruguay.', ', VIC.', ', Venezuela.', ', Ver.', ', Vic.', ', Victoria.', ', Vietnam.', ', VipA.', ', Virginia.', ', Wash.', ', Washington.', ', Weinheim.', ', Westf.', ', Wisconsin.', ', Worcester.', ', Zambia.']\n"
     ]
    }
   ],
   "source": [
    "print(a)"
   ]
  },
  {
   "cell_type": "code",
   "execution_count": 24,
   "metadata": {},
   "outputs": [],
   "source": [
    "a = \"\".join(unique_cods)\n",
    "b = a.split(\", \")\n",
    "c = \"\".join(b)\n",
    "unique_zipcodes = c.split(\".\")"
   ]
  },
  {
   "cell_type": "code",
   "execution_count": 25,
   "metadata": {},
   "outputs": [
    {
     "name": "stdout",
     "output_type": "stream",
     "text": [
      "[', AAVrh.', ', Aar.', ', Abt.', ', Acc.', ', AfoA.', ', AggR.', ', Algeria.', ', Andorra.', ', Apdo.', ', Argentina.', ', Arkansas.', ', Arkel.', ', AscR.', ', Australia.', ', Austria.', ', Avd.', ', Avda.', ', Ave.', ', Baltimore.', ', Bangladesh.']\n"
     ]
    }
   ],
   "source": [
    "print(unique_codes[:20])"
   ]
  },
  {
   "cell_type": "code",
   "execution_count": 26,
   "metadata": {},
   "outputs": [
    {
     "data": {
      "text/plain": [
       "258"
      ]
     },
     "execution_count": 26,
     "metadata": {},
     "output_type": "execute_result"
    }
   ],
   "source": [
    "len(unique_zipcodes)"
   ]
  },
  {
   "cell_type": "code",
   "execution_count": null,
   "metadata": {},
   "outputs": [],
   "source": [
    "import pandas as pd\n",
    "%matplotlib inline\n",
    "\n",
    "Datacoo = pd.read_csv('data_Coo.csv', engine='python', skipfooter=3)\n",
    "Datacoo.head(15)"
   ]
  },
  {
   "cell_type": "code",
   "execution_count": 107,
   "metadata": {},
   "outputs": [],
   "source": [
    "datos_nombre = Coordenadas[Coordenadas.Nombre.isin(unique_zipcodes)]\n",
    "datos_paises = Coordenadas[Coordenadas.ID_País.isin(unique_zipcodes)]\n",
    "all_data =pd.concat([datos_nombre,datos_paises]).drop_duplicates().sort_values('Nombre')\n"
   ]
  },
  {
   "cell_type": "code",
   "execution_count": 108,
   "metadata": {},
   "outputs": [
    {
     "data": {
      "text/html": [
       "<div>\n",
       "<style scoped>\n",
       "    .dataframe tbody tr th:only-of-type {\n",
       "        vertical-align: middle;\n",
       "    }\n",
       "\n",
       "    .dataframe tbody tr th {\n",
       "        vertical-align: top;\n",
       "    }\n",
       "\n",
       "    .dataframe thead th {\n",
       "        text-align: right;\n",
       "    }\n",
       "</style>\n",
       "<table border=\"1\" class=\"dataframe\">\n",
       "  <thead>\n",
       "    <tr style=\"text-align: right;\">\n",
       "      <th></th>\n",
       "      <th>ID_País</th>\n",
       "      <th>Latitud</th>\n",
       "      <th>Longitud</th>\n",
       "      <th>Nombre</th>\n",
       "    </tr>\n",
       "  </thead>\n",
       "  <tbody>\n",
       "    <tr>\n",
       "      <th>2</th>\n",
       "      <td>AF</td>\n",
       "      <td>33.939110</td>\n",
       "      <td>67.709953</td>\n",
       "      <td>Afghanistan</td>\n",
       "    </tr>\n",
       "    <tr>\n",
       "      <th>58</th>\n",
       "      <td>DZ</td>\n",
       "      <td>28.033886</td>\n",
       "      <td>1.659626</td>\n",
       "      <td>Algeria</td>\n",
       "    </tr>\n",
       "    <tr>\n",
       "      <th>10</th>\n",
       "      <td>AR</td>\n",
       "      <td>-38.416097</td>\n",
       "      <td>-63.616672</td>\n",
       "      <td>Argentina</td>\n",
       "    </tr>\n",
       "    <tr>\n",
       "      <th>13</th>\n",
       "      <td>AU</td>\n",
       "      <td>-25.274398</td>\n",
       "      <td>133.775136</td>\n",
       "      <td>Australia</td>\n",
       "    </tr>\n",
       "    <tr>\n",
       "      <th>12</th>\n",
       "      <td>AT</td>\n",
       "      <td>47.516231</td>\n",
       "      <td>14.550072</td>\n",
       "      <td>Austria</td>\n",
       "    </tr>\n",
       "    <tr>\n",
       "      <th>18</th>\n",
       "      <td>BD</td>\n",
       "      <td>23.684994</td>\n",
       "      <td>90.356331</td>\n",
       "      <td>Bangladesh</td>\n",
       "    </tr>\n",
       "    <tr>\n",
       "      <th>33</th>\n",
       "      <td>BY</td>\n",
       "      <td>53.709807</td>\n",
       "      <td>27.953389</td>\n",
       "      <td>Belarus</td>\n",
       "    </tr>\n",
       "    <tr>\n",
       "      <th>19</th>\n",
       "      <td>BE</td>\n",
       "      <td>50.503887</td>\n",
       "      <td>4.469936</td>\n",
       "      <td>Belgium</td>\n",
       "    </tr>\n",
       "    <tr>\n",
       "      <th>27</th>\n",
       "      <td>BO</td>\n",
       "      <td>-16.290154</td>\n",
       "      <td>-63.588653</td>\n",
       "      <td>Bolivia</td>\n",
       "    </tr>\n",
       "    <tr>\n",
       "      <th>28</th>\n",
       "      <td>BR</td>\n",
       "      <td>-14.235004</td>\n",
       "      <td>-51.925280</td>\n",
       "      <td>Brazil</td>\n",
       "    </tr>\n",
       "  </tbody>\n",
       "</table>\n",
       "</div>"
      ],
      "text/plain": [
       "   ID_País    Latitud    Longitud       Nombre\n",
       "2       AF  33.939110   67.709953  Afghanistan\n",
       "58      DZ  28.033886    1.659626      Algeria\n",
       "10      AR -38.416097  -63.616672    Argentina\n",
       "13      AU -25.274398  133.775136    Australia\n",
       "12      AT  47.516231   14.550072      Austria\n",
       "18      BD  23.684994   90.356331   Bangladesh\n",
       "33      BY  53.709807   27.953389      Belarus\n",
       "19      BE  50.503887    4.469936      Belgium\n",
       "27      BO -16.290154  -63.588653      Bolivia\n",
       "28      BR -14.235004  -51.925280       Brazil"
      ]
     },
     "execution_count": 108,
     "metadata": {},
     "output_type": "execute_result"
    }
   ],
   "source": [
    "all_data.head(10)"
   ]
  },
  {
   "cell_type": "code",
   "execution_count": 110,
   "metadata": {},
   "outputs": [
    {
     "data": {
      "image/png": "[encoded data removed]",
      "text/plain": [
       "<Figure size 1296x864 with 2 Axes>"
      ]
     },
     "metadata": {
      "needs_background": "light"
     },
     "output_type": "display_data"
    }
   ],
   "source": [
    "import matplotlib.pyplot as plt\n",
    "plt.scatter(all_data.Longitud, all_data.Latitud, s=50, c=all_data.Latitud)\n",
    "plt.colorbar()\n",
    "\n",
    "ard = dict(arrowstyle=\"->\")\n",
    "plt.annotate('AUSTRALIA', xy = (133.775136, -25.274398), \n",
    "               xytext = (133.775136, -20), arrowprops= ard)\n",
    "plt.annotate('BRASIL', xy = (-51.92528, -14.235004), \n",
    "               xytext = (-51.92528, -9.5), arrowprops= ard)\n",
    "plt.annotate('BELGICA', xy = (4.469936, 50.503887), \n",
    "               xytext = (9.469936, 38), arrowprops = ard)\n",
    "plt.annotate('CHINA', xy = (104.195397, 35.86166), \n",
    "               xytext = (104.195397, 39), arrowprops= ard)\n",
    "plt.annotate('NORUEGA', xy = (8.468946, 60.472024), \n",
    "               xytext = (8.468946, 63), arrowprops= ard)\n",
    "plt.annotate('AFGHANISTAN', xy = (67.709953,33.939110), \n",
    "               xytext = (70.709953, 30), arrowprops= ard)\n",
    "plt.annotate('ARGENTINA', xy = (-63.616672,\t-38.416097), \n",
    "               xytext = (-63.616672, -36), arrowprops= ard)\n",
    "plt.annotate('ALGERIA', xy = (1.659626,\t28.033886), \n",
    "               xytext = (1.659626, 24), arrowprops= ard)\n",
    "plt.annotate('BOLIVIA', xy = (-63.588653,\t-16.290154), \n",
    "               xytext = (-63.588653, -6), arrowprops= ard)\n",
    "params = plt.gcf()\n",
    "plSize = params.get_size_inches()\n",
    "params.set_size_inches( (plSize[0] * 3, plSize[1] * 3) )\n"
   ]
  }
 ],
 "metadata": {
  "interpreter": {
   "hash": "245fcf91734be8c7f04f6e804be8977e6391fb94d1a18ae601bbfb95b826498f"
  },
  "kernelspec": {
   "display_name": "Python 3 (ipykernel)",
   "language": "python",
   "name": "python3"
  },
  "language_info": {
   "codemirror_mode": {
    "name": "ipython",
    "version": 3
   },
   "file_extension": ".py",
   "mimetype": "text/x-python",
   "name": "python",
   "nbconvert_exporter": "python",
   "pygments_lexer": "ipython3",
   "version": "3.9.7"
  }
 },
 "nbformat": 4,
 "nbformat_minor": 4
}
